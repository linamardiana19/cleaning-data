{
 "cells": [
  {
   "cell_type": "code",
   "execution_count": 77,
   "id": "c8b0dcd4",
   "metadata": {},
   "outputs": [],
   "source": [
    "import pandas as pd\n",
    "import numpy as np"
   ]
  },
  {
   "cell_type": "code",
   "execution_count": 78,
   "id": "b4a0a8a1",
   "metadata": {},
   "outputs": [
    {
     "data": {
      "text/html": [
       "<div>\n",
       "<style scoped>\n",
       "    .dataframe tbody tr th:only-of-type {\n",
       "        vertical-align: middle;\n",
       "    }\n",
       "\n",
       "    .dataframe tbody tr th {\n",
       "        vertical-align: top;\n",
       "    }\n",
       "\n",
       "    .dataframe thead th {\n",
       "        text-align: right;\n",
       "    }\n",
       "</style>\n",
       "<table border=\"1\" class=\"dataframe\">\n",
       "  <thead>\n",
       "    <tr style=\"text-align: right;\">\n",
       "      <th></th>\n",
       "      <th>Name</th>\n",
       "      <th>Nilai</th>\n",
       "      <th>Gender</th>\n",
       "      <th>Email</th>\n",
       "    </tr>\n",
       "  </thead>\n",
       "  <tbody>\n",
       "    <tr>\n",
       "      <th>0</th>\n",
       "      <td>Lina</td>\n",
       "      <td>98.0</td>\n",
       "      <td>Male</td>\n",
       "      <td>lina@gmail.com</td>\n",
       "    </tr>\n",
       "    <tr>\n",
       "      <th>1</th>\n",
       "      <td>Inun</td>\n",
       "      <td>NaN</td>\n",
       "      <td>Female</td>\n",
       "      <td>Inun@gmail.com</td>\n",
       "    </tr>\n",
       "    <tr>\n",
       "      <th>2</th>\n",
       "      <td>Cahaya</td>\n",
       "      <td>99.0</td>\n",
       "      <td>Male</td>\n",
       "      <td>cahaya@gmail.com</td>\n",
       "    </tr>\n",
       "    <tr>\n",
       "      <th>3</th>\n",
       "      <td>Noni</td>\n",
       "      <td>87.0</td>\n",
       "      <td>Male</td>\n",
       "      <td>noni@yahoo.com</td>\n",
       "    </tr>\n",
       "    <tr>\n",
       "      <th>4</th>\n",
       "      <td>Aida</td>\n",
       "      <td>NaN</td>\n",
       "      <td>Female</td>\n",
       "      <td>aida@yahoo.com</td>\n",
       "    </tr>\n",
       "    <tr>\n",
       "      <th>5</th>\n",
       "      <td>Astri</td>\n",
       "      <td>83.0</td>\n",
       "      <td>Female</td>\n",
       "      <td>astri@yahoo.com</td>\n",
       "    </tr>\n",
       "    <tr>\n",
       "      <th>6</th>\n",
       "      <td>Srize</td>\n",
       "      <td>99.0</td>\n",
       "      <td>Male</td>\n",
       "      <td>srize@yahoo.com</td>\n",
       "    </tr>\n",
       "  </tbody>\n",
       "</table>\n",
       "</div>"
      ],
      "text/plain": [
       "     Name  Nilai  Gender             Email\n",
       "0    Lina   98.0    Male    lina@gmail.com\n",
       "1    Inun    NaN  Female    Inun@gmail.com\n",
       "2  Cahaya   99.0    Male  cahaya@gmail.com\n",
       "3    Noni   87.0    Male    noni@yahoo.com\n",
       "4    Aida    NaN  Female    aida@yahoo.com\n",
       "5   Astri   83.0  Female   astri@yahoo.com\n",
       "6   Srize   99.0    Male   srize@yahoo.com"
      ]
     },
     "execution_count": 78,
     "metadata": {},
     "output_type": "execute_result"
    }
   ],
   "source": [
    "dict1 = {'Name':['Lina','Inun','Cahaya','Noni','Aida','Astri','Srize'], 'Nilai':[98,np.nan,99,87,np.nan,83,99], 'Gender':['Male','Female','Male','Male','Female','Female','Male'], 'Email': ['lina@gmail.com','Inun@gmail.com','cahaya@gmail.com','noni@yahoo.com','aida@yahoo.com','astri@yahoo.com','srize@yahoo.com']}\n",
    "df1 = pd.DataFrame(dict1)\n",
    "df1"
   ]
  },
  {
   "cell_type": "code",
   "execution_count": 79,
   "id": "f8a86399",
   "metadata": {},
   "outputs": [
    {
     "data": {
      "text/html": [
       "<div>\n",
       "<style scoped>\n",
       "    .dataframe tbody tr th:only-of-type {\n",
       "        vertical-align: middle;\n",
       "    }\n",
       "\n",
       "    .dataframe tbody tr th {\n",
       "        vertical-align: top;\n",
       "    }\n",
       "\n",
       "    .dataframe thead th {\n",
       "        text-align: right;\n",
       "    }\n",
       "</style>\n",
       "<table border=\"1\" class=\"dataframe\">\n",
       "  <thead>\n",
       "    <tr style=\"text-align: right;\">\n",
       "      <th></th>\n",
       "      <th>Name</th>\n",
       "      <th>Nilai</th>\n",
       "      <th>Gender</th>\n",
       "      <th>Email</th>\n",
       "    </tr>\n",
       "  </thead>\n",
       "  <tbody>\n",
       "    <tr>\n",
       "      <th>0</th>\n",
       "      <td>Lina</td>\n",
       "      <td>98.0</td>\n",
       "      <td>Male</td>\n",
       "      <td>lina@gmail.com</td>\n",
       "    </tr>\n",
       "    <tr>\n",
       "      <th>1</th>\n",
       "      <td>Inun</td>\n",
       "      <td>NaN</td>\n",
       "      <td>Female</td>\n",
       "      <td>Inun@gmail.com</td>\n",
       "    </tr>\n",
       "    <tr>\n",
       "      <th>2</th>\n",
       "      <td>Cahaya</td>\n",
       "      <td>99.0</td>\n",
       "      <td>Male</td>\n",
       "      <td>cahaya@gmail.com</td>\n",
       "    </tr>\n",
       "  </tbody>\n",
       "</table>\n",
       "</div>"
      ],
      "text/plain": [
       "     Name  Nilai  Gender             Email\n",
       "0    Lina   98.0    Male    lina@gmail.com\n",
       "1    Inun    NaN  Female    Inun@gmail.com\n",
       "2  Cahaya   99.0    Male  cahaya@gmail.com"
      ]
     },
     "execution_count": 79,
     "metadata": {},
     "output_type": "execute_result"
    }
   ],
   "source": [
    "df1.head(3)"
   ]
  },
  {
   "cell_type": "code",
   "execution_count": 80,
   "id": "09c47924",
   "metadata": {},
   "outputs": [
    {
     "data": {
      "text/html": [
       "<div>\n",
       "<style scoped>\n",
       "    .dataframe tbody tr th:only-of-type {\n",
       "        vertical-align: middle;\n",
       "    }\n",
       "\n",
       "    .dataframe tbody tr th {\n",
       "        vertical-align: top;\n",
       "    }\n",
       "\n",
       "    .dataframe thead th {\n",
       "        text-align: right;\n",
       "    }\n",
       "</style>\n",
       "<table border=\"1\" class=\"dataframe\">\n",
       "  <thead>\n",
       "    <tr style=\"text-align: right;\">\n",
       "      <th></th>\n",
       "      <th>Name</th>\n",
       "      <th>Nilai</th>\n",
       "      <th>Gender</th>\n",
       "      <th>Email</th>\n",
       "    </tr>\n",
       "  </thead>\n",
       "  <tbody>\n",
       "    <tr>\n",
       "      <th>2</th>\n",
       "      <td>Cahaya</td>\n",
       "      <td>99.0</td>\n",
       "      <td>Male</td>\n",
       "      <td>cahaya@gmail.com</td>\n",
       "    </tr>\n",
       "    <tr>\n",
       "      <th>3</th>\n",
       "      <td>Noni</td>\n",
       "      <td>87.0</td>\n",
       "      <td>Male</td>\n",
       "      <td>noni@yahoo.com</td>\n",
       "    </tr>\n",
       "    <tr>\n",
       "      <th>4</th>\n",
       "      <td>Aida</td>\n",
       "      <td>NaN</td>\n",
       "      <td>Female</td>\n",
       "      <td>aida@yahoo.com</td>\n",
       "    </tr>\n",
       "    <tr>\n",
       "      <th>5</th>\n",
       "      <td>Astri</td>\n",
       "      <td>83.0</td>\n",
       "      <td>Female</td>\n",
       "      <td>astri@yahoo.com</td>\n",
       "    </tr>\n",
       "    <tr>\n",
       "      <th>6</th>\n",
       "      <td>Srize</td>\n",
       "      <td>99.0</td>\n",
       "      <td>Male</td>\n",
       "      <td>srize@yahoo.com</td>\n",
       "    </tr>\n",
       "  </tbody>\n",
       "</table>\n",
       "</div>"
      ],
      "text/plain": [
       "     Name  Nilai  Gender             Email\n",
       "2  Cahaya   99.0    Male  cahaya@gmail.com\n",
       "3    Noni   87.0    Male    noni@yahoo.com\n",
       "4    Aida    NaN  Female    aida@yahoo.com\n",
       "5   Astri   83.0  Female   astri@yahoo.com\n",
       "6   Srize   99.0    Male   srize@yahoo.com"
      ]
     },
     "execution_count": 80,
     "metadata": {},
     "output_type": "execute_result"
    }
   ],
   "source": [
    "df1.tail()"
   ]
  },
  {
   "cell_type": "code",
   "execution_count": 81,
   "id": "957e34e0",
   "metadata": {},
   "outputs": [
    {
     "data": {
      "text/html": [
       "<div>\n",
       "<style scoped>\n",
       "    .dataframe tbody tr th:only-of-type {\n",
       "        vertical-align: middle;\n",
       "    }\n",
       "\n",
       "    .dataframe tbody tr th {\n",
       "        vertical-align: top;\n",
       "    }\n",
       "\n",
       "    .dataframe thead th {\n",
       "        text-align: right;\n",
       "    }\n",
       "</style>\n",
       "<table border=\"1\" class=\"dataframe\">\n",
       "  <thead>\n",
       "    <tr style=\"text-align: right;\">\n",
       "      <th></th>\n",
       "      <th>Name</th>\n",
       "      <th>Nilai</th>\n",
       "      <th>Gender</th>\n",
       "      <th>Email</th>\n",
       "    </tr>\n",
       "  </thead>\n",
       "  <tbody>\n",
       "    <tr>\n",
       "      <th>0</th>\n",
       "      <td>Lina</td>\n",
       "      <td>98.0</td>\n",
       "      <td>Male</td>\n",
       "      <td>lina@gmail.com</td>\n",
       "    </tr>\n",
       "    <tr>\n",
       "      <th>1</th>\n",
       "      <td>Inun</td>\n",
       "      <td>NaN</td>\n",
       "      <td>Female</td>\n",
       "      <td>Inun@gmail.com</td>\n",
       "    </tr>\n",
       "    <tr>\n",
       "      <th>2</th>\n",
       "      <td>Cahaya</td>\n",
       "      <td>99.0</td>\n",
       "      <td>Male</td>\n",
       "      <td>cahaya@gmail.com</td>\n",
       "    </tr>\n",
       "    <tr>\n",
       "      <th>3</th>\n",
       "      <td>Noni</td>\n",
       "      <td>87.0</td>\n",
       "      <td>Male</td>\n",
       "      <td>noni@yahoo.com</td>\n",
       "    </tr>\n",
       "    <tr>\n",
       "      <th>4</th>\n",
       "      <td>Aida</td>\n",
       "      <td>NaN</td>\n",
       "      <td>Female</td>\n",
       "      <td>aida@yahoo.com</td>\n",
       "    </tr>\n",
       "  </tbody>\n",
       "</table>\n",
       "</div>"
      ],
      "text/plain": [
       "     Name  Nilai  Gender             Email\n",
       "0    Lina   98.0    Male    lina@gmail.com\n",
       "1    Inun    NaN  Female    Inun@gmail.com\n",
       "2  Cahaya   99.0    Male  cahaya@gmail.com\n",
       "3    Noni   87.0    Male    noni@yahoo.com\n",
       "4    Aida    NaN  Female    aida@yahoo.com"
      ]
     },
     "execution_count": 81,
     "metadata": {},
     "output_type": "execute_result"
    }
   ],
   "source": [
    "df1.head(-2)"
   ]
  },
  {
   "cell_type": "code",
   "execution_count": 82,
   "id": "b20885b7",
   "metadata": {},
   "outputs": [
    {
     "data": {
      "text/html": [
       "<div>\n",
       "<style scoped>\n",
       "    .dataframe tbody tr th:only-of-type {\n",
       "        vertical-align: middle;\n",
       "    }\n",
       "\n",
       "    .dataframe tbody tr th {\n",
       "        vertical-align: top;\n",
       "    }\n",
       "\n",
       "    .dataframe thead th {\n",
       "        text-align: right;\n",
       "    }\n",
       "</style>\n",
       "<table border=\"1\" class=\"dataframe\">\n",
       "  <thead>\n",
       "    <tr style=\"text-align: right;\">\n",
       "      <th></th>\n",
       "      <th>Name</th>\n",
       "      <th>Nilai</th>\n",
       "      <th>Gender</th>\n",
       "      <th>Email</th>\n",
       "    </tr>\n",
       "  </thead>\n",
       "  <tbody>\n",
       "    <tr>\n",
       "      <th>3</th>\n",
       "      <td>Noni</td>\n",
       "      <td>87.0</td>\n",
       "      <td>Male</td>\n",
       "      <td>noni@yahoo.com</td>\n",
       "    </tr>\n",
       "    <tr>\n",
       "      <th>4</th>\n",
       "      <td>Aida</td>\n",
       "      <td>NaN</td>\n",
       "      <td>Female</td>\n",
       "      <td>aida@yahoo.com</td>\n",
       "    </tr>\n",
       "    <tr>\n",
       "      <th>5</th>\n",
       "      <td>Astri</td>\n",
       "      <td>83.0</td>\n",
       "      <td>Female</td>\n",
       "      <td>astri@yahoo.com</td>\n",
       "    </tr>\n",
       "    <tr>\n",
       "      <th>6</th>\n",
       "      <td>Srize</td>\n",
       "      <td>99.0</td>\n",
       "      <td>Male</td>\n",
       "      <td>srize@yahoo.com</td>\n",
       "    </tr>\n",
       "  </tbody>\n",
       "</table>\n",
       "</div>"
      ],
      "text/plain": [
       "    Name  Nilai  Gender            Email\n",
       "3   Noni   87.0    Male   noni@yahoo.com\n",
       "4   Aida    NaN  Female   aida@yahoo.com\n",
       "5  Astri   83.0  Female  astri@yahoo.com\n",
       "6  Srize   99.0    Male  srize@yahoo.com"
      ]
     },
     "execution_count": 82,
     "metadata": {},
     "output_type": "execute_result"
    }
   ],
   "source": [
    "df1.tail(-3)"
   ]
  },
  {
   "cell_type": "code",
   "execution_count": 83,
   "id": "96ee61c2",
   "metadata": {},
   "outputs": [
    {
     "data": {
      "text/plain": [
       "(7, 4)"
      ]
     },
     "execution_count": 83,
     "metadata": {},
     "output_type": "execute_result"
    }
   ],
   "source": [
    "df1.shape"
   ]
  },
  {
   "cell_type": "code",
   "execution_count": 84,
   "id": "08194d02",
   "metadata": {},
   "outputs": [
    {
     "name": "stdout",
     "output_type": "stream",
     "text": [
      "Number of Rows 7\n",
      "Number of Columns 4\n"
     ]
    }
   ],
   "source": [
    "print(\"Number of Rows\",df1.shape[0])\n",
    "print(\"Number of Columns\",df1.shape[1])"
   ]
  },
  {
   "cell_type": "code",
   "execution_count": 85,
   "id": "e89fc901",
   "metadata": {},
   "outputs": [
    {
     "data": {
      "text/plain": [
       "(7,)"
      ]
     },
     "execution_count": 85,
     "metadata": {},
     "output_type": "execute_result"
    }
   ],
   "source": [
    "df1['Nilai'].shape"
   ]
  },
  {
   "cell_type": "code",
   "execution_count": 86,
   "id": "d47acb44",
   "metadata": {},
   "outputs": [
    {
     "name": "stdout",
     "output_type": "stream",
     "text": [
      "<class 'pandas.core.frame.DataFrame'>\n",
      "RangeIndex: 7 entries, 0 to 6\n",
      "Data columns (total 4 columns):\n",
      " #   Column  Non-Null Count  Dtype  \n",
      "---  ------  --------------  -----  \n",
      " 0   Name    7 non-null      object \n",
      " 1   Nilai   5 non-null      float64\n",
      " 2   Gender  7 non-null      object \n",
      " 3   Email   7 non-null      object \n",
      "dtypes: float64(1), object(3)\n",
      "memory usage: 352.0+ bytes\n"
     ]
    }
   ],
   "source": [
    "df1.info()"
   ]
  },
  {
   "cell_type": "code",
   "execution_count": 87,
   "id": "69d7bcf9-c448-44c1-a8ec-9930b0856ca1",
   "metadata": {},
   "outputs": [
    {
     "data": {
      "text/plain": [
       "Name      0\n",
       "Nilai     2\n",
       "Gender    0\n",
       "Email     0\n",
       "dtype: int64"
      ]
     },
     "execution_count": 87,
     "metadata": {},
     "output_type": "execute_result"
    }
   ],
   "source": [
    "df1.isnull().sum()"
   ]
  },
  {
   "cell_type": "code",
   "execution_count": 88,
   "id": "5bc5c572-363e-478a-ac7c-1dfe160170f0",
   "metadata": {},
   "outputs": [
    {
     "name": "stdout",
     "output_type": "stream",
     "text": [
      "<class 'pandas.core.frame.DataFrame'>\n",
      "RangeIndex: 7 entries, 0 to 6\n",
      "Data columns (total 4 columns):\n",
      " #   Column  Non-Null Count  Dtype  \n",
      "---  ------  --------------  -----  \n",
      " 0   Name    7 non-null      object \n",
      " 1   Nilai   5 non-null      float64\n",
      " 2   Gender  7 non-null      object \n",
      " 3   Email   7 non-null      object \n",
      "dtypes: float64(1), object(3)\n",
      "memory usage: 352.0+ bytes\n"
     ]
    }
   ],
   "source": [
    "df1.info()"
   ]
  },
  {
   "cell_type": "code",
   "execution_count": 89,
   "id": "041169e6-7e50-484b-81ca-b826f960364b",
   "metadata": {},
   "outputs": [
    {
     "data": {
      "text/html": [
       "<div>\n",
       "<style scoped>\n",
       "    .dataframe tbody tr th:only-of-type {\n",
       "        vertical-align: middle;\n",
       "    }\n",
       "\n",
       "    .dataframe tbody tr th {\n",
       "        vertical-align: top;\n",
       "    }\n",
       "\n",
       "    .dataframe thead th {\n",
       "        text-align: right;\n",
       "    }\n",
       "</style>\n",
       "<table border=\"1\" class=\"dataframe\">\n",
       "  <thead>\n",
       "    <tr style=\"text-align: right;\">\n",
       "      <th></th>\n",
       "      <th>Name</th>\n",
       "      <th>Nilai</th>\n",
       "      <th>Gender</th>\n",
       "      <th>Email</th>\n",
       "    </tr>\n",
       "  </thead>\n",
       "  <tbody>\n",
       "    <tr>\n",
       "      <th>count</th>\n",
       "      <td>7</td>\n",
       "      <td>5.000000</td>\n",
       "      <td>7</td>\n",
       "      <td>7</td>\n",
       "    </tr>\n",
       "    <tr>\n",
       "      <th>unique</th>\n",
       "      <td>7</td>\n",
       "      <td>NaN</td>\n",
       "      <td>2</td>\n",
       "      <td>7</td>\n",
       "    </tr>\n",
       "    <tr>\n",
       "      <th>top</th>\n",
       "      <td>Lina</td>\n",
       "      <td>NaN</td>\n",
       "      <td>Male</td>\n",
       "      <td>lina@gmail.com</td>\n",
       "    </tr>\n",
       "    <tr>\n",
       "      <th>freq</th>\n",
       "      <td>1</td>\n",
       "      <td>NaN</td>\n",
       "      <td>4</td>\n",
       "      <td>1</td>\n",
       "    </tr>\n",
       "    <tr>\n",
       "      <th>mean</th>\n",
       "      <td>NaN</td>\n",
       "      <td>93.200000</td>\n",
       "      <td>NaN</td>\n",
       "      <td>NaN</td>\n",
       "    </tr>\n",
       "    <tr>\n",
       "      <th>std</th>\n",
       "      <td>NaN</td>\n",
       "      <td>7.628892</td>\n",
       "      <td>NaN</td>\n",
       "      <td>NaN</td>\n",
       "    </tr>\n",
       "    <tr>\n",
       "      <th>min</th>\n",
       "      <td>NaN</td>\n",
       "      <td>83.000000</td>\n",
       "      <td>NaN</td>\n",
       "      <td>NaN</td>\n",
       "    </tr>\n",
       "    <tr>\n",
       "      <th>25%</th>\n",
       "      <td>NaN</td>\n",
       "      <td>87.000000</td>\n",
       "      <td>NaN</td>\n",
       "      <td>NaN</td>\n",
       "    </tr>\n",
       "    <tr>\n",
       "      <th>50%</th>\n",
       "      <td>NaN</td>\n",
       "      <td>98.000000</td>\n",
       "      <td>NaN</td>\n",
       "      <td>NaN</td>\n",
       "    </tr>\n",
       "    <tr>\n",
       "      <th>75%</th>\n",
       "      <td>NaN</td>\n",
       "      <td>99.000000</td>\n",
       "      <td>NaN</td>\n",
       "      <td>NaN</td>\n",
       "    </tr>\n",
       "    <tr>\n",
       "      <th>max</th>\n",
       "      <td>NaN</td>\n",
       "      <td>99.000000</td>\n",
       "      <td>NaN</td>\n",
       "      <td>NaN</td>\n",
       "    </tr>\n",
       "  </tbody>\n",
       "</table>\n",
       "</div>"
      ],
      "text/plain": [
       "        Name      Nilai Gender           Email\n",
       "count      7   5.000000      7               7\n",
       "unique     7        NaN      2               7\n",
       "top     Lina        NaN   Male  lina@gmail.com\n",
       "freq       1        NaN      4               1\n",
       "mean     NaN  93.200000    NaN             NaN\n",
       "std      NaN   7.628892    NaN             NaN\n",
       "min      NaN  83.000000    NaN             NaN\n",
       "25%      NaN  87.000000    NaN             NaN\n",
       "50%      NaN  98.000000    NaN             NaN\n",
       "75%      NaN  99.000000    NaN             NaN\n",
       "max      NaN  99.000000    NaN             NaN"
      ]
     },
     "execution_count": 89,
     "metadata": {},
     "output_type": "execute_result"
    }
   ],
   "source": [
    "df1.describe(include='all')"
   ]
  },
  {
   "cell_type": "code",
   "execution_count": 90,
   "id": "fa2ebdfe-3e84-447c-a749-6f81fa7f28e4",
   "metadata": {},
   "outputs": [
    {
     "data": {
      "text/plain": [
       "Index(['Name', 'Nilai', 'Gender', 'Email'], dtype='object')"
      ]
     },
     "execution_count": 90,
     "metadata": {},
     "output_type": "execute_result"
    }
   ],
   "source": [
    "df1.columns"
   ]
  },
  {
   "cell_type": "code",
   "execution_count": 91,
   "id": "409282a6-3efd-4975-aef2-d3547f2d3a8e",
   "metadata": {},
   "outputs": [
    {
     "data": {
      "text/plain": [
       "array([98., nan, 99., 87., 83.])"
      ]
     },
     "execution_count": 91,
     "metadata": {},
     "output_type": "execute_result"
    }
   ],
   "source": [
    "df1['Nilai'].unique()"
   ]
  },
  {
   "cell_type": "code",
   "execution_count": 92,
   "id": "2b2a3481-7ebc-4ea9-a12a-fa872c819a7e",
   "metadata": {},
   "outputs": [
    {
     "data": {
      "text/plain": [
       "2"
      ]
     },
     "execution_count": 92,
     "metadata": {},
     "output_type": "execute_result"
    }
   ],
   "source": [
    "df1['Gender'].nunique()"
   ]
  },
  {
   "cell_type": "code",
   "execution_count": 93,
   "id": "047729fd-e929-488e-98c0-19280d6aeb0a",
   "metadata": {},
   "outputs": [
    {
     "data": {
      "text/plain": [
       "Name      7\n",
       "Nilai     4\n",
       "Gender    2\n",
       "Email     7\n",
       "dtype: int64"
      ]
     },
     "execution_count": 93,
     "metadata": {},
     "output_type": "execute_result"
    }
   ],
   "source": [
    "df1.nunique()"
   ]
  },
  {
   "cell_type": "code",
   "execution_count": 94,
   "id": "ca1181cf-961c-452d-ba75-2b9f387b72a3",
   "metadata": {},
   "outputs": [
    {
     "data": {
      "text/plain": [
       "Male      4\n",
       "Female    3\n",
       "Name: Gender, dtype: int64"
      ]
     },
     "execution_count": 94,
     "metadata": {},
     "output_type": "execute_result"
    }
   ],
   "source": [
    "df1['Gender'].value_counts()"
   ]
  },
  {
   "cell_type": "code",
   "execution_count": 95,
   "id": "dfe071c7-b653-41a8-874c-688720f83f9c",
   "metadata": {},
   "outputs": [
    {
     "data": {
      "text/html": [
       "<div>\n",
       "<style scoped>\n",
       "    .dataframe tbody tr th:only-of-type {\n",
       "        vertical-align: middle;\n",
       "    }\n",
       "\n",
       "    .dataframe tbody tr th {\n",
       "        vertical-align: top;\n",
       "    }\n",
       "\n",
       "    .dataframe thead th {\n",
       "        text-align: right;\n",
       "    }\n",
       "</style>\n",
       "<table border=\"1\" class=\"dataframe\">\n",
       "  <thead>\n",
       "    <tr style=\"text-align: right;\">\n",
       "      <th></th>\n",
       "      <th>Name</th>\n",
       "      <th>Nilai</th>\n",
       "      <th>Gender</th>\n",
       "      <th>Email</th>\n",
       "    </tr>\n",
       "  </thead>\n",
       "  <tbody>\n",
       "    <tr>\n",
       "      <th>0</th>\n",
       "      <td>Lina</td>\n",
       "      <td>98.0</td>\n",
       "      <td>Male</td>\n",
       "      <td>lina@gmail.com</td>\n",
       "    </tr>\n",
       "    <tr>\n",
       "      <th>1</th>\n",
       "      <td>Inun</td>\n",
       "      <td>NaN</td>\n",
       "      <td>Female</td>\n",
       "      <td>Inun@gmail.com</td>\n",
       "    </tr>\n",
       "    <tr>\n",
       "      <th>2</th>\n",
       "      <td>Cahaya</td>\n",
       "      <td>99.0</td>\n",
       "      <td>Male</td>\n",
       "      <td>cahaya@gmail.com</td>\n",
       "    </tr>\n",
       "    <tr>\n",
       "      <th>3</th>\n",
       "      <td>Noni</td>\n",
       "      <td>87.0</td>\n",
       "      <td>Male</td>\n",
       "      <td>noni@yahoo.com</td>\n",
       "    </tr>\n",
       "    <tr>\n",
       "      <th>4</th>\n",
       "      <td>Aida</td>\n",
       "      <td>NaN</td>\n",
       "      <td>Female</td>\n",
       "      <td>aida@yahoo.com</td>\n",
       "    </tr>\n",
       "    <tr>\n",
       "      <th>5</th>\n",
       "      <td>Astri</td>\n",
       "      <td>83.0</td>\n",
       "      <td>Female</td>\n",
       "      <td>astri@yahoo.com</td>\n",
       "    </tr>\n",
       "    <tr>\n",
       "      <th>6</th>\n",
       "      <td>Srize</td>\n",
       "      <td>99.0</td>\n",
       "      <td>Male</td>\n",
       "      <td>srize@yahoo.com</td>\n",
       "    </tr>\n",
       "  </tbody>\n",
       "</table>\n",
       "</div>"
      ],
      "text/plain": [
       "     Name  Nilai  Gender             Email\n",
       "0    Lina   98.0    Male    lina@gmail.com\n",
       "1    Inun    NaN  Female    Inun@gmail.com\n",
       "2  Cahaya   99.0    Male  cahaya@gmail.com\n",
       "3    Noni   87.0    Male    noni@yahoo.com\n",
       "4    Aida    NaN  Female    aida@yahoo.com\n",
       "5   Astri   83.0  Female   astri@yahoo.com\n",
       "6   Srize   99.0    Male   srize@yahoo.com"
      ]
     },
     "execution_count": 95,
     "metadata": {},
     "output_type": "execute_result"
    }
   ],
   "source": [
    "df1.dropna(how='all')"
   ]
  },
  {
   "cell_type": "code",
   "execution_count": 96,
   "id": "c849fb94-365b-4fe0-9be7-cccfed17ace7",
   "metadata": {},
   "outputs": [
    {
     "data": {
      "text/html": [
       "<div>\n",
       "<style scoped>\n",
       "    .dataframe tbody tr th:only-of-type {\n",
       "        vertical-align: middle;\n",
       "    }\n",
       "\n",
       "    .dataframe tbody tr th {\n",
       "        vertical-align: top;\n",
       "    }\n",
       "\n",
       "    .dataframe thead th {\n",
       "        text-align: right;\n",
       "    }\n",
       "</style>\n",
       "<table border=\"1\" class=\"dataframe\">\n",
       "  <thead>\n",
       "    <tr style=\"text-align: right;\">\n",
       "      <th></th>\n",
       "      <th>Name</th>\n",
       "      <th>Nilai</th>\n",
       "      <th>Gender</th>\n",
       "      <th>Email</th>\n",
       "    </tr>\n",
       "  </thead>\n",
       "  <tbody>\n",
       "    <tr>\n",
       "      <th>0</th>\n",
       "      <td>Lina</td>\n",
       "      <td>98.0</td>\n",
       "      <td>Male</td>\n",
       "      <td>lina@gmail.com</td>\n",
       "    </tr>\n",
       "    <tr>\n",
       "      <th>1</th>\n",
       "      <td>Inun</td>\n",
       "      <td>0.0</td>\n",
       "      <td>Female</td>\n",
       "      <td>Inun@gmail.com</td>\n",
       "    </tr>\n",
       "    <tr>\n",
       "      <th>2</th>\n",
       "      <td>Cahaya</td>\n",
       "      <td>99.0</td>\n",
       "      <td>Male</td>\n",
       "      <td>cahaya@gmail.com</td>\n",
       "    </tr>\n",
       "    <tr>\n",
       "      <th>3</th>\n",
       "      <td>Noni</td>\n",
       "      <td>87.0</td>\n",
       "      <td>Male</td>\n",
       "      <td>noni@yahoo.com</td>\n",
       "    </tr>\n",
       "    <tr>\n",
       "      <th>4</th>\n",
       "      <td>Aida</td>\n",
       "      <td>0.0</td>\n",
       "      <td>Female</td>\n",
       "      <td>aida@yahoo.com</td>\n",
       "    </tr>\n",
       "    <tr>\n",
       "      <th>5</th>\n",
       "      <td>Astri</td>\n",
       "      <td>83.0</td>\n",
       "      <td>Female</td>\n",
       "      <td>astri@yahoo.com</td>\n",
       "    </tr>\n",
       "    <tr>\n",
       "      <th>6</th>\n",
       "      <td>Srize</td>\n",
       "      <td>99.0</td>\n",
       "      <td>Male</td>\n",
       "      <td>srize@yahoo.com</td>\n",
       "    </tr>\n",
       "  </tbody>\n",
       "</table>\n",
       "</div>"
      ],
      "text/plain": [
       "     Name  Nilai  Gender             Email\n",
       "0    Lina   98.0    Male    lina@gmail.com\n",
       "1    Inun    0.0  Female    Inun@gmail.com\n",
       "2  Cahaya   99.0    Male  cahaya@gmail.com\n",
       "3    Noni   87.0    Male    noni@yahoo.com\n",
       "4    Aida    0.0  Female    aida@yahoo.com\n",
       "5   Astri   83.0  Female   astri@yahoo.com\n",
       "6   Srize   99.0    Male   srize@yahoo.com"
      ]
     },
     "execution_count": 96,
     "metadata": {},
     "output_type": "execute_result"
    }
   ],
   "source": [
    "df1.fillna(0)"
   ]
  },
  {
   "cell_type": "code",
   "execution_count": 97,
   "id": "c7d2e72d-a565-4bf6-a493-77a41431c52b",
   "metadata": {},
   "outputs": [],
   "source": [
    "df1['Nilai'] = df1['Nilai'].fillna(df1['Nilai'].mean())"
   ]
  },
  {
   "cell_type": "code",
   "execution_count": 98,
   "id": "4e79c322-88af-4ee0-98b8-8d852ed8b37e",
   "metadata": {},
   "outputs": [
    {
     "data": {
      "text/html": [
       "<div>\n",
       "<style scoped>\n",
       "    .dataframe tbody tr th:only-of-type {\n",
       "        vertical-align: middle;\n",
       "    }\n",
       "\n",
       "    .dataframe tbody tr th {\n",
       "        vertical-align: top;\n",
       "    }\n",
       "\n",
       "    .dataframe thead th {\n",
       "        text-align: right;\n",
       "    }\n",
       "</style>\n",
       "<table border=\"1\" class=\"dataframe\">\n",
       "  <thead>\n",
       "    <tr style=\"text-align: right;\">\n",
       "      <th></th>\n",
       "      <th>Name</th>\n",
       "      <th>Nilai</th>\n",
       "      <th>Gender</th>\n",
       "      <th>Email</th>\n",
       "    </tr>\n",
       "  </thead>\n",
       "  <tbody>\n",
       "    <tr>\n",
       "      <th>0</th>\n",
       "      <td>Lina</td>\n",
       "      <td>98.0</td>\n",
       "      <td>Male</td>\n",
       "      <td>lina@gmail.com</td>\n",
       "    </tr>\n",
       "    <tr>\n",
       "      <th>1</th>\n",
       "      <td>Inun</td>\n",
       "      <td>93.2</td>\n",
       "      <td>Female</td>\n",
       "      <td>Inun@gmail.com</td>\n",
       "    </tr>\n",
       "    <tr>\n",
       "      <th>2</th>\n",
       "      <td>Cahaya</td>\n",
       "      <td>99.0</td>\n",
       "      <td>Male</td>\n",
       "      <td>cahaya@gmail.com</td>\n",
       "    </tr>\n",
       "    <tr>\n",
       "      <th>3</th>\n",
       "      <td>Noni</td>\n",
       "      <td>87.0</td>\n",
       "      <td>Male</td>\n",
       "      <td>noni@yahoo.com</td>\n",
       "    </tr>\n",
       "    <tr>\n",
       "      <th>4</th>\n",
       "      <td>Aida</td>\n",
       "      <td>93.2</td>\n",
       "      <td>Female</td>\n",
       "      <td>aida@yahoo.com</td>\n",
       "    </tr>\n",
       "    <tr>\n",
       "      <th>5</th>\n",
       "      <td>Astri</td>\n",
       "      <td>83.0</td>\n",
       "      <td>Female</td>\n",
       "      <td>astri@yahoo.com</td>\n",
       "    </tr>\n",
       "    <tr>\n",
       "      <th>6</th>\n",
       "      <td>Srize</td>\n",
       "      <td>99.0</td>\n",
       "      <td>Male</td>\n",
       "      <td>srize@yahoo.com</td>\n",
       "    </tr>\n",
       "  </tbody>\n",
       "</table>\n",
       "</div>"
      ],
      "text/plain": [
       "     Name  Nilai  Gender             Email\n",
       "0    Lina   98.0    Male    lina@gmail.com\n",
       "1    Inun   93.2  Female    Inun@gmail.com\n",
       "2  Cahaya   99.0    Male  cahaya@gmail.com\n",
       "3    Noni   87.0    Male    noni@yahoo.com\n",
       "4    Aida   93.2  Female    aida@yahoo.com\n",
       "5   Astri   83.0  Female   astri@yahoo.com\n",
       "6   Srize   99.0    Male   srize@yahoo.com"
      ]
     },
     "execution_count": 98,
     "metadata": {},
     "output_type": "execute_result"
    }
   ],
   "source": [
    "df1"
   ]
  },
  {
   "cell_type": "code",
   "execution_count": 99,
   "id": "59127351-705e-4439-b8a6-7138cc9d7799",
   "metadata": {},
   "outputs": [
    {
     "data": {
      "text/plain": [
       "0    False\n",
       "1    False\n",
       "2    False\n",
       "3     True\n",
       "4    False\n",
       "5     True\n",
       "6    False\n",
       "Name: Nilai, dtype: bool"
      ]
     },
     "execution_count": 99,
     "metadata": {},
     "output_type": "execute_result"
    }
   ],
   "source": [
    "(df1['Nilai']>=80) & (df1['Nilai']<=90)"
   ]
  },
  {
   "cell_type": "code",
   "execution_count": 100,
   "id": "330b545e-5427-4b88-93b7-d8d810c69352",
   "metadata": {},
   "outputs": [
    {
     "data": {
      "text/plain": [
       "0    False\n",
       "1    False\n",
       "2    False\n",
       "3     True\n",
       "4    False\n",
       "5     True\n",
       "6    False\n",
       "Name: Nilai, dtype: bool"
      ]
     },
     "execution_count": 100,
     "metadata": {},
     "output_type": "execute_result"
    }
   ],
   "source": [
    "df1['Nilai'].between(80,90)"
   ]
  },
  {
   "cell_type": "code",
   "execution_count": 101,
   "id": "030968cd-75c3-4273-8466-3a79a81f883d",
   "metadata": {},
   "outputs": [
    {
     "data": {
      "text/plain": [
       "Index(['Name', 'Nilai', 'Gender', 'Email'], dtype='object')"
      ]
     },
     "execution_count": 101,
     "metadata": {},
     "output_type": "execute_result"
    }
   ],
   "source": [
    "df1.columns"
   ]
  },
  {
   "cell_type": "code",
   "execution_count": 102,
   "id": "b7e6b24d-4ba9-4583-91e9-b8f945fc9a38",
   "metadata": {},
   "outputs": [
    {
     "data": {
      "text/html": [
       "<div>\n",
       "<style scoped>\n",
       "    .dataframe tbody tr th:only-of-type {\n",
       "        vertical-align: middle;\n",
       "    }\n",
       "\n",
       "    .dataframe tbody tr th {\n",
       "        vertical-align: top;\n",
       "    }\n",
       "\n",
       "    .dataframe thead th {\n",
       "        text-align: right;\n",
       "    }\n",
       "</style>\n",
       "<table border=\"1\" class=\"dataframe\">\n",
       "  <thead>\n",
       "    <tr style=\"text-align: right;\">\n",
       "      <th></th>\n",
       "      <th>Name</th>\n",
       "      <th>Nilai</th>\n",
       "      <th>Gender</th>\n",
       "      <th>Email</th>\n",
       "    </tr>\n",
       "  </thead>\n",
       "  <tbody>\n",
       "    <tr>\n",
       "      <th>5</th>\n",
       "      <td>Astri</td>\n",
       "      <td>83.0</td>\n",
       "      <td>Female</td>\n",
       "      <td>astri@yahoo.com</td>\n",
       "    </tr>\n",
       "  </tbody>\n",
       "</table>\n",
       "</div>"
      ],
      "text/plain": [
       "    Name  Nilai  Gender            Email\n",
       "5  Astri   83.0  Female  astri@yahoo.com"
      ]
     },
     "execution_count": 102,
     "metadata": {},
     "output_type": "execute_result"
    }
   ],
   "source": [
    "df1[df1['Nilai'].min() == df1['Nilai']]"
   ]
  },
  {
   "cell_type": "code",
   "execution_count": 103,
   "id": "4e97ab3c-e867-449f-ab83-6033851a65c6",
   "metadata": {},
   "outputs": [
    {
     "data": {
      "text/plain": [
       "5    Astri\n",
       "Name: Name, dtype: object"
      ]
     },
     "execution_count": 103,
     "metadata": {},
     "output_type": "execute_result"
    }
   ],
   "source": [
    "df1[df1['Nilai'].min() == df1['Nilai']]['Name']"
   ]
  },
  {
   "cell_type": "code",
   "execution_count": 104,
   "id": "822234bd-b21d-4518-b2e1-cdb859144f8f",
   "metadata": {},
   "outputs": [
    {
     "data": {
      "text/html": [
       "<div>\n",
       "<style scoped>\n",
       "    .dataframe tbody tr th:only-of-type {\n",
       "        vertical-align: middle;\n",
       "    }\n",
       "\n",
       "    .dataframe tbody tr th {\n",
       "        vertical-align: top;\n",
       "    }\n",
       "\n",
       "    .dataframe thead th {\n",
       "        text-align: right;\n",
       "    }\n",
       "</style>\n",
       "<table border=\"1\" class=\"dataframe\">\n",
       "  <thead>\n",
       "    <tr style=\"text-align: right;\">\n",
       "      <th></th>\n",
       "      <th>Name</th>\n",
       "      <th>Nilai</th>\n",
       "      <th>Gender</th>\n",
       "      <th>Email</th>\n",
       "    </tr>\n",
       "  </thead>\n",
       "  <tbody>\n",
       "    <tr>\n",
       "      <th>2</th>\n",
       "      <td>Cahaya</td>\n",
       "      <td>99.0</td>\n",
       "      <td>Male</td>\n",
       "      <td>cahaya@gmail.com</td>\n",
       "    </tr>\n",
       "    <tr>\n",
       "      <th>6</th>\n",
       "      <td>Srize</td>\n",
       "      <td>99.0</td>\n",
       "      <td>Male</td>\n",
       "      <td>srize@yahoo.com</td>\n",
       "    </tr>\n",
       "    <tr>\n",
       "      <th>0</th>\n",
       "      <td>Lina</td>\n",
       "      <td>98.0</td>\n",
       "      <td>Male</td>\n",
       "      <td>lina@gmail.com</td>\n",
       "    </tr>\n",
       "    <tr>\n",
       "      <th>1</th>\n",
       "      <td>Inun</td>\n",
       "      <td>93.2</td>\n",
       "      <td>Female</td>\n",
       "      <td>Inun@gmail.com</td>\n",
       "    </tr>\n",
       "    <tr>\n",
       "      <th>4</th>\n",
       "      <td>Aida</td>\n",
       "      <td>93.2</td>\n",
       "      <td>Female</td>\n",
       "      <td>aida@yahoo.com</td>\n",
       "    </tr>\n",
       "  </tbody>\n",
       "</table>\n",
       "</div>"
      ],
      "text/plain": [
       "     Name  Nilai  Gender             Email\n",
       "2  Cahaya   99.0    Male  cahaya@gmail.com\n",
       "6   Srize   99.0    Male   srize@yahoo.com\n",
       "0    Lina   98.0    Male    lina@gmail.com\n",
       "1    Inun   93.2  Female    Inun@gmail.com\n",
       "4    Aida   93.2  Female    aida@yahoo.com"
      ]
     },
     "execution_count": 104,
     "metadata": {},
     "output_type": "execute_result"
    }
   ],
   "source": [
    "df1.nlargest(5,'Nilai')"
   ]
  },
  {
   "cell_type": "code",
   "execution_count": 105,
   "id": "b78f7231-baa3-473d-aac3-5af4faf48258",
   "metadata": {},
   "outputs": [
    {
     "data": {
      "text/plain": [
       "2    Cahaya\n",
       "6     Srize\n",
       "0      Lina\n",
       "1      Inun\n",
       "4      Aida\n",
       "Name: Name, dtype: object"
      ]
     },
     "execution_count": 105,
     "metadata": {},
     "output_type": "execute_result"
    }
   ],
   "source": [
    "df1.nlargest(5,'Nilai')['Name']"
   ]
  },
  {
   "cell_type": "code",
   "execution_count": 106,
   "id": "713b78fe-0679-4019-8114-724ae708ee74",
   "metadata": {},
   "outputs": [
    {
     "data": {
      "text/html": [
       "<div>\n",
       "<style scoped>\n",
       "    .dataframe tbody tr th:only-of-type {\n",
       "        vertical-align: middle;\n",
       "    }\n",
       "\n",
       "    .dataframe tbody tr th {\n",
       "        vertical-align: top;\n",
       "    }\n",
       "\n",
       "    .dataframe thead th {\n",
       "        text-align: right;\n",
       "    }\n",
       "</style>\n",
       "<table border=\"1\" class=\"dataframe\">\n",
       "  <thead>\n",
       "    <tr style=\"text-align: right;\">\n",
       "      <th></th>\n",
       "      <th>Name</th>\n",
       "      <th>Nilai</th>\n",
       "    </tr>\n",
       "  </thead>\n",
       "  <tbody>\n",
       "    <tr>\n",
       "      <th>2</th>\n",
       "      <td>Cahaya</td>\n",
       "      <td>99.0</td>\n",
       "    </tr>\n",
       "    <tr>\n",
       "      <th>6</th>\n",
       "      <td>Srize</td>\n",
       "      <td>99.0</td>\n",
       "    </tr>\n",
       "    <tr>\n",
       "      <th>0</th>\n",
       "      <td>Lina</td>\n",
       "      <td>98.0</td>\n",
       "    </tr>\n",
       "    <tr>\n",
       "      <th>1</th>\n",
       "      <td>Inun</td>\n",
       "      <td>93.2</td>\n",
       "    </tr>\n",
       "    <tr>\n",
       "      <th>4</th>\n",
       "      <td>Aida</td>\n",
       "      <td>93.2</td>\n",
       "    </tr>\n",
       "  </tbody>\n",
       "</table>\n",
       "</div>"
      ],
      "text/plain": [
       "     Name  Nilai\n",
       "2  Cahaya   99.0\n",
       "6   Srize   99.0\n",
       "0    Lina   98.0\n",
       "1    Inun   93.2\n",
       "4    Aida   93.2"
      ]
     },
     "execution_count": 106,
     "metadata": {},
     "output_type": "execute_result"
    }
   ],
   "source": [
    "df1.nlargest(5,'Nilai')[['Name','Nilai']]"
   ]
  },
  {
   "cell_type": "code",
   "execution_count": 107,
   "id": "10456d04-823c-4450-8db1-6091add17f9e",
   "metadata": {},
   "outputs": [
    {
     "data": {
      "text/html": [
       "<div>\n",
       "<style scoped>\n",
       "    .dataframe tbody tr th:only-of-type {\n",
       "        vertical-align: middle;\n",
       "    }\n",
       "\n",
       "    .dataframe tbody tr th {\n",
       "        vertical-align: top;\n",
       "    }\n",
       "\n",
       "    .dataframe thead th {\n",
       "        text-align: right;\n",
       "    }\n",
       "</style>\n",
       "<table border=\"1\" class=\"dataframe\">\n",
       "  <thead>\n",
       "    <tr style=\"text-align: right;\">\n",
       "      <th></th>\n",
       "      <th>Name</th>\n",
       "      <th>Nilai</th>\n",
       "    </tr>\n",
       "  </thead>\n",
       "  <tbody>\n",
       "    <tr>\n",
       "      <th>2</th>\n",
       "      <td>Cahaya</td>\n",
       "      <td>99.0</td>\n",
       "    </tr>\n",
       "    <tr>\n",
       "      <th>6</th>\n",
       "      <td>Srize</td>\n",
       "      <td>99.0</td>\n",
       "    </tr>\n",
       "    <tr>\n",
       "      <th>0</th>\n",
       "      <td>Lina</td>\n",
       "      <td>98.0</td>\n",
       "    </tr>\n",
       "    <tr>\n",
       "      <th>1</th>\n",
       "      <td>Inun</td>\n",
       "      <td>93.2</td>\n",
       "    </tr>\n",
       "    <tr>\n",
       "      <th>4</th>\n",
       "      <td>Aida</td>\n",
       "      <td>93.2</td>\n",
       "    </tr>\n",
       "  </tbody>\n",
       "</table>\n",
       "</div>"
      ],
      "text/plain": [
       "     Name  Nilai\n",
       "2  Cahaya   99.0\n",
       "6   Srize   99.0\n",
       "0    Lina   98.0\n",
       "1    Inun   93.2\n",
       "4    Aida   93.2"
      ]
     },
     "execution_count": 107,
     "metadata": {},
     "output_type": "execute_result"
    }
   ],
   "source": [
    "df1.sort_values(by='Nilai',ascending=False).head()[['Name','Nilai']]"
   ]
  },
  {
   "cell_type": "code",
   "execution_count": 108,
   "id": "e330eb5e-250e-470e-a1da-25b7648fb3df",
   "metadata": {},
   "outputs": [
    {
     "data": {
      "text/plain": [
       "93.2"
      ]
     },
     "execution_count": 108,
     "metadata": {},
     "output_type": "execute_result"
    }
   ],
   "source": [
    "df1['Nilai'].mean()"
   ]
  },
  {
   "cell_type": "code",
   "execution_count": 109,
   "id": "f7cb1a40-5c89-42d0-8e9b-c4f51ffe9acb",
   "metadata": {},
   "outputs": [],
   "source": [
    "def marks(x):\n",
    "    return x/2"
   ]
  },
  {
   "cell_type": "code",
   "execution_count": 110,
   "id": "eb6860d9-94dc-4315-ac7b-d6181a30bfbc",
   "metadata": {},
   "outputs": [],
   "source": [
    "df1['Half Nilai'] = df1['Nilai'].apply(marks)"
   ]
  },
  {
   "cell_type": "code",
   "execution_count": 111,
   "id": "55518577-ad97-4be7-b204-89cb89cdd24e",
   "metadata": {},
   "outputs": [
    {
     "data": {
      "text/html": [
       "<div>\n",
       "<style scoped>\n",
       "    .dataframe tbody tr th:only-of-type {\n",
       "        vertical-align: middle;\n",
       "    }\n",
       "\n",
       "    .dataframe tbody tr th {\n",
       "        vertical-align: top;\n",
       "    }\n",
       "\n",
       "    .dataframe thead th {\n",
       "        text-align: right;\n",
       "    }\n",
       "</style>\n",
       "<table border=\"1\" class=\"dataframe\">\n",
       "  <thead>\n",
       "    <tr style=\"text-align: right;\">\n",
       "      <th></th>\n",
       "      <th>Name</th>\n",
       "      <th>Nilai</th>\n",
       "      <th>Gender</th>\n",
       "      <th>Email</th>\n",
       "      <th>Half Nilai</th>\n",
       "    </tr>\n",
       "  </thead>\n",
       "  <tbody>\n",
       "    <tr>\n",
       "      <th>0</th>\n",
       "      <td>Lina</td>\n",
       "      <td>98.0</td>\n",
       "      <td>Male</td>\n",
       "      <td>lina@gmail.com</td>\n",
       "      <td>49.0</td>\n",
       "    </tr>\n",
       "    <tr>\n",
       "      <th>1</th>\n",
       "      <td>Inun</td>\n",
       "      <td>93.2</td>\n",
       "      <td>Female</td>\n",
       "      <td>Inun@gmail.com</td>\n",
       "      <td>46.6</td>\n",
       "    </tr>\n",
       "    <tr>\n",
       "      <th>2</th>\n",
       "      <td>Cahaya</td>\n",
       "      <td>99.0</td>\n",
       "      <td>Male</td>\n",
       "      <td>cahaya@gmail.com</td>\n",
       "      <td>49.5</td>\n",
       "    </tr>\n",
       "    <tr>\n",
       "      <th>3</th>\n",
       "      <td>Noni</td>\n",
       "      <td>87.0</td>\n",
       "      <td>Male</td>\n",
       "      <td>noni@yahoo.com</td>\n",
       "      <td>43.5</td>\n",
       "    </tr>\n",
       "    <tr>\n",
       "      <th>4</th>\n",
       "      <td>Aida</td>\n",
       "      <td>93.2</td>\n",
       "      <td>Female</td>\n",
       "      <td>aida@yahoo.com</td>\n",
       "      <td>46.6</td>\n",
       "    </tr>\n",
       "    <tr>\n",
       "      <th>5</th>\n",
       "      <td>Astri</td>\n",
       "      <td>83.0</td>\n",
       "      <td>Female</td>\n",
       "      <td>astri@yahoo.com</td>\n",
       "      <td>41.5</td>\n",
       "    </tr>\n",
       "    <tr>\n",
       "      <th>6</th>\n",
       "      <td>Srize</td>\n",
       "      <td>99.0</td>\n",
       "      <td>Male</td>\n",
       "      <td>srize@yahoo.com</td>\n",
       "      <td>49.5</td>\n",
       "    </tr>\n",
       "  </tbody>\n",
       "</table>\n",
       "</div>"
      ],
      "text/plain": [
       "     Name  Nilai  Gender             Email  Half Nilai\n",
       "0    Lina   98.0    Male    lina@gmail.com        49.0\n",
       "1    Inun   93.2  Female    Inun@gmail.com        46.6\n",
       "2  Cahaya   99.0    Male  cahaya@gmail.com        49.5\n",
       "3    Noni   87.0    Male    noni@yahoo.com        43.5\n",
       "4    Aida   93.2  Female    aida@yahoo.com        46.6\n",
       "5   Astri   83.0  Female   astri@yahoo.com        41.5\n",
       "6   Srize   99.0    Male   srize@yahoo.com        49.5"
      ]
     },
     "execution_count": 111,
     "metadata": {},
     "output_type": "execute_result"
    }
   ],
   "source": [
    "df1"
   ]
  },
  {
   "cell_type": "code",
   "execution_count": 112,
   "id": "befd4ca7-00ad-4ab6-acc8-0e170c458348",
   "metadata": {},
   "outputs": [],
   "source": [
    "df1['Male_Female']=df1['Gender'].map({'Male':1,'Female':0})"
   ]
  },
  {
   "cell_type": "code",
   "execution_count": 113,
   "id": "601cfb2f-f4ba-4496-9019-b5af33e29d4e",
   "metadata": {},
   "outputs": [
    {
     "data": {
      "text/html": [
       "<div>\n",
       "<style scoped>\n",
       "    .dataframe tbody tr th:only-of-type {\n",
       "        vertical-align: middle;\n",
       "    }\n",
       "\n",
       "    .dataframe tbody tr th {\n",
       "        vertical-align: top;\n",
       "    }\n",
       "\n",
       "    .dataframe thead th {\n",
       "        text-align: right;\n",
       "    }\n",
       "</style>\n",
       "<table border=\"1\" class=\"dataframe\">\n",
       "  <thead>\n",
       "    <tr style=\"text-align: right;\">\n",
       "      <th></th>\n",
       "      <th>Name</th>\n",
       "      <th>Nilai</th>\n",
       "      <th>Gender</th>\n",
       "      <th>Email</th>\n",
       "      <th>Half Nilai</th>\n",
       "      <th>Male_Female</th>\n",
       "    </tr>\n",
       "  </thead>\n",
       "  <tbody>\n",
       "    <tr>\n",
       "      <th>0</th>\n",
       "      <td>Lina</td>\n",
       "      <td>98.0</td>\n",
       "      <td>Male</td>\n",
       "      <td>lina@gmail.com</td>\n",
       "      <td>49.0</td>\n",
       "      <td>1</td>\n",
       "    </tr>\n",
       "    <tr>\n",
       "      <th>1</th>\n",
       "      <td>Inun</td>\n",
       "      <td>93.2</td>\n",
       "      <td>Female</td>\n",
       "      <td>Inun@gmail.com</td>\n",
       "      <td>46.6</td>\n",
       "      <td>0</td>\n",
       "    </tr>\n",
       "    <tr>\n",
       "      <th>2</th>\n",
       "      <td>Cahaya</td>\n",
       "      <td>99.0</td>\n",
       "      <td>Male</td>\n",
       "      <td>cahaya@gmail.com</td>\n",
       "      <td>49.5</td>\n",
       "      <td>1</td>\n",
       "    </tr>\n",
       "    <tr>\n",
       "      <th>3</th>\n",
       "      <td>Noni</td>\n",
       "      <td>87.0</td>\n",
       "      <td>Male</td>\n",
       "      <td>noni@yahoo.com</td>\n",
       "      <td>43.5</td>\n",
       "      <td>1</td>\n",
       "    </tr>\n",
       "    <tr>\n",
       "      <th>4</th>\n",
       "      <td>Aida</td>\n",
       "      <td>93.2</td>\n",
       "      <td>Female</td>\n",
       "      <td>aida@yahoo.com</td>\n",
       "      <td>46.6</td>\n",
       "      <td>0</td>\n",
       "    </tr>\n",
       "    <tr>\n",
       "      <th>5</th>\n",
       "      <td>Astri</td>\n",
       "      <td>83.0</td>\n",
       "      <td>Female</td>\n",
       "      <td>astri@yahoo.com</td>\n",
       "      <td>41.5</td>\n",
       "      <td>0</td>\n",
       "    </tr>\n",
       "    <tr>\n",
       "      <th>6</th>\n",
       "      <td>Srize</td>\n",
       "      <td>99.0</td>\n",
       "      <td>Male</td>\n",
       "      <td>srize@yahoo.com</td>\n",
       "      <td>49.5</td>\n",
       "      <td>1</td>\n",
       "    </tr>\n",
       "  </tbody>\n",
       "</table>\n",
       "</div>"
      ],
      "text/plain": [
       "     Name  Nilai  Gender             Email  Half Nilai  Male_Female\n",
       "0    Lina   98.0    Male    lina@gmail.com        49.0            1\n",
       "1    Inun   93.2  Female    Inun@gmail.com        46.6            0\n",
       "2  Cahaya   99.0    Male  cahaya@gmail.com        49.5            1\n",
       "3    Noni   87.0    Male    noni@yahoo.com        43.5            1\n",
       "4    Aida   93.2  Female    aida@yahoo.com        46.6            0\n",
       "5   Astri   83.0  Female   astri@yahoo.com        41.5            0\n",
       "6   Srize   99.0    Male   srize@yahoo.com        49.5            1"
      ]
     },
     "execution_count": 113,
     "metadata": {},
     "output_type": "execute_result"
    }
   ],
   "source": [
    "df1"
   ]
  },
  {
   "cell_type": "code",
   "execution_count": 114,
   "id": "15011d32-9f77-4439-aa50-e752a01fa642",
   "metadata": {},
   "outputs": [
    {
     "data": {
      "text/html": [
       "<div>\n",
       "<style scoped>\n",
       "    .dataframe tbody tr th:only-of-type {\n",
       "        vertical-align: middle;\n",
       "    }\n",
       "\n",
       "    .dataframe tbody tr th {\n",
       "        vertical-align: top;\n",
       "    }\n",
       "\n",
       "    .dataframe thead th {\n",
       "        text-align: right;\n",
       "    }\n",
       "</style>\n",
       "<table border=\"1\" class=\"dataframe\">\n",
       "  <thead>\n",
       "    <tr style=\"text-align: right;\">\n",
       "      <th></th>\n",
       "      <th>Name</th>\n",
       "      <th>Nilai</th>\n",
       "      <th>Gender</th>\n",
       "      <th>Email</th>\n",
       "      <th>Half Nilai</th>\n",
       "    </tr>\n",
       "  </thead>\n",
       "  <tbody>\n",
       "    <tr>\n",
       "      <th>0</th>\n",
       "      <td>Lina</td>\n",
       "      <td>98.0</td>\n",
       "      <td>Male</td>\n",
       "      <td>lina@gmail.com</td>\n",
       "      <td>49.0</td>\n",
       "    </tr>\n",
       "    <tr>\n",
       "      <th>1</th>\n",
       "      <td>Inun</td>\n",
       "      <td>93.2</td>\n",
       "      <td>Female</td>\n",
       "      <td>Inun@gmail.com</td>\n",
       "      <td>46.6</td>\n",
       "    </tr>\n",
       "    <tr>\n",
       "      <th>2</th>\n",
       "      <td>Cahaya</td>\n",
       "      <td>99.0</td>\n",
       "      <td>Male</td>\n",
       "      <td>cahaya@gmail.com</td>\n",
       "      <td>49.5</td>\n",
       "    </tr>\n",
       "    <tr>\n",
       "      <th>3</th>\n",
       "      <td>Noni</td>\n",
       "      <td>87.0</td>\n",
       "      <td>Male</td>\n",
       "      <td>noni@yahoo.com</td>\n",
       "      <td>43.5</td>\n",
       "    </tr>\n",
       "    <tr>\n",
       "      <th>4</th>\n",
       "      <td>Aida</td>\n",
       "      <td>93.2</td>\n",
       "      <td>Female</td>\n",
       "      <td>aida@yahoo.com</td>\n",
       "      <td>46.6</td>\n",
       "    </tr>\n",
       "    <tr>\n",
       "      <th>5</th>\n",
       "      <td>Astri</td>\n",
       "      <td>83.0</td>\n",
       "      <td>Female</td>\n",
       "      <td>astri@yahoo.com</td>\n",
       "      <td>41.5</td>\n",
       "    </tr>\n",
       "    <tr>\n",
       "      <th>6</th>\n",
       "      <td>Srize</td>\n",
       "      <td>99.0</td>\n",
       "      <td>Male</td>\n",
       "      <td>srize@yahoo.com</td>\n",
       "      <td>49.5</td>\n",
       "    </tr>\n",
       "  </tbody>\n",
       "</table>\n",
       "</div>"
      ],
      "text/plain": [
       "     Name  Nilai  Gender             Email  Half Nilai\n",
       "0    Lina   98.0    Male    lina@gmail.com        49.0\n",
       "1    Inun   93.2  Female    Inun@gmail.com        46.6\n",
       "2  Cahaya   99.0    Male  cahaya@gmail.com        49.5\n",
       "3    Noni   87.0    Male    noni@yahoo.com        43.5\n",
       "4    Aida   93.2  Female    aida@yahoo.com        46.6\n",
       "5   Astri   83.0  Female   astri@yahoo.com        41.5\n",
       "6   Srize   99.0    Male   srize@yahoo.com        49.5"
      ]
     },
     "execution_count": 114,
     "metadata": {},
     "output_type": "execute_result"
    }
   ],
   "source": [
    "df1.drop('Male_Female',axis=1)"
   ]
  },
  {
   "cell_type": "code",
   "execution_count": 115,
   "id": "8b91b104-81e0-4db5-ad43-c97f7c2d5b46",
   "metadata": {},
   "outputs": [
    {
     "data": {
      "text/html": [
       "<div>\n",
       "<style scoped>\n",
       "    .dataframe tbody tr th:only-of-type {\n",
       "        vertical-align: middle;\n",
       "    }\n",
       "\n",
       "    .dataframe tbody tr th {\n",
       "        vertical-align: top;\n",
       "    }\n",
       "\n",
       "    .dataframe thead th {\n",
       "        text-align: right;\n",
       "    }\n",
       "</style>\n",
       "<table border=\"1\" class=\"dataframe\">\n",
       "  <thead>\n",
       "    <tr style=\"text-align: right;\">\n",
       "      <th></th>\n",
       "      <th>Name</th>\n",
       "      <th>Nilai</th>\n",
       "      <th>Gender</th>\n",
       "      <th>Email</th>\n",
       "      <th>Half Nilai</th>\n",
       "      <th>Male_Female</th>\n",
       "    </tr>\n",
       "  </thead>\n",
       "  <tbody>\n",
       "    <tr>\n",
       "      <th>2</th>\n",
       "      <td>Cahaya</td>\n",
       "      <td>99.0</td>\n",
       "      <td>Male</td>\n",
       "      <td>cahaya@gmail.com</td>\n",
       "      <td>49.5</td>\n",
       "      <td>1</td>\n",
       "    </tr>\n",
       "    <tr>\n",
       "      <th>6</th>\n",
       "      <td>Srize</td>\n",
       "      <td>99.0</td>\n",
       "      <td>Male</td>\n",
       "      <td>srize@yahoo.com</td>\n",
       "      <td>49.5</td>\n",
       "      <td>1</td>\n",
       "    </tr>\n",
       "    <tr>\n",
       "      <th>0</th>\n",
       "      <td>Lina</td>\n",
       "      <td>98.0</td>\n",
       "      <td>Male</td>\n",
       "      <td>lina@gmail.com</td>\n",
       "      <td>49.0</td>\n",
       "      <td>1</td>\n",
       "    </tr>\n",
       "    <tr>\n",
       "      <th>1</th>\n",
       "      <td>Inun</td>\n",
       "      <td>93.2</td>\n",
       "      <td>Female</td>\n",
       "      <td>Inun@gmail.com</td>\n",
       "      <td>46.6</td>\n",
       "      <td>0</td>\n",
       "    </tr>\n",
       "    <tr>\n",
       "      <th>4</th>\n",
       "      <td>Aida</td>\n",
       "      <td>93.2</td>\n",
       "      <td>Female</td>\n",
       "      <td>aida@yahoo.com</td>\n",
       "      <td>46.6</td>\n",
       "      <td>0</td>\n",
       "    </tr>\n",
       "    <tr>\n",
       "      <th>3</th>\n",
       "      <td>Noni</td>\n",
       "      <td>87.0</td>\n",
       "      <td>Male</td>\n",
       "      <td>noni@yahoo.com</td>\n",
       "      <td>43.5</td>\n",
       "      <td>1</td>\n",
       "    </tr>\n",
       "    <tr>\n",
       "      <th>5</th>\n",
       "      <td>Astri</td>\n",
       "      <td>83.0</td>\n",
       "      <td>Female</td>\n",
       "      <td>astri@yahoo.com</td>\n",
       "      <td>41.5</td>\n",
       "      <td>0</td>\n",
       "    </tr>\n",
       "  </tbody>\n",
       "</table>\n",
       "</div>"
      ],
      "text/plain": [
       "     Name  Nilai  Gender             Email  Half Nilai  Male_Female\n",
       "2  Cahaya   99.0    Male  cahaya@gmail.com        49.5            1\n",
       "6   Srize   99.0    Male   srize@yahoo.com        49.5            1\n",
       "0    Lina   98.0    Male    lina@gmail.com        49.0            1\n",
       "1    Inun   93.2  Female    Inun@gmail.com        46.6            0\n",
       "4    Aida   93.2  Female    aida@yahoo.com        46.6            0\n",
       "3    Noni   87.0    Male    noni@yahoo.com        43.5            1\n",
       "5   Astri   83.0  Female   astri@yahoo.com        41.5            0"
      ]
     },
     "execution_count": 115,
     "metadata": {},
     "output_type": "execute_result"
    }
   ],
   "source": [
    "df1.sort_values(by='Nilai',ascending=False)"
   ]
  },
  {
   "cell_type": "code",
   "execution_count": 116,
   "id": "b5bde047-9f61-4951-bd40-b8032b497c25",
   "metadata": {},
   "outputs": [
    {
     "data": {
      "text/html": [
       "<div>\n",
       "<style scoped>\n",
       "    .dataframe tbody tr th:only-of-type {\n",
       "        vertical-align: middle;\n",
       "    }\n",
       "\n",
       "    .dataframe tbody tr th {\n",
       "        vertical-align: top;\n",
       "    }\n",
       "\n",
       "    .dataframe thead th {\n",
       "        text-align: right;\n",
       "    }\n",
       "</style>\n",
       "<table border=\"1\" class=\"dataframe\">\n",
       "  <thead>\n",
       "    <tr style=\"text-align: right;\">\n",
       "      <th></th>\n",
       "      <th>Name</th>\n",
       "      <th>Nilai</th>\n",
       "    </tr>\n",
       "  </thead>\n",
       "  <tbody>\n",
       "    <tr>\n",
       "      <th>1</th>\n",
       "      <td>Inun</td>\n",
       "      <td>93.2</td>\n",
       "    </tr>\n",
       "    <tr>\n",
       "      <th>4</th>\n",
       "      <td>Aida</td>\n",
       "      <td>93.2</td>\n",
       "    </tr>\n",
       "    <tr>\n",
       "      <th>5</th>\n",
       "      <td>Astri</td>\n",
       "      <td>83.0</td>\n",
       "    </tr>\n",
       "  </tbody>\n",
       "</table>\n",
       "</div>"
      ],
      "text/plain": [
       "    Name  Nilai\n",
       "1   Inun   93.2\n",
       "4   Aida   93.2\n",
       "5  Astri   83.0"
      ]
     },
     "execution_count": 116,
     "metadata": {},
     "output_type": "execute_result"
    }
   ],
   "source": [
    "df1[df1['Gender']=='Female'][['Name','Nilai']]"
   ]
  },
  {
   "cell_type": "code",
   "execution_count": 117,
   "id": "e573d8ab-182a-4bf1-ab50-0abef98aaa12",
   "metadata": {},
   "outputs": [
    {
     "data": {
      "text/html": [
       "<div>\n",
       "<style scoped>\n",
       "    .dataframe tbody tr th:only-of-type {\n",
       "        vertical-align: middle;\n",
       "    }\n",
       "\n",
       "    .dataframe tbody tr th {\n",
       "        vertical-align: top;\n",
       "    }\n",
       "\n",
       "    .dataframe thead th {\n",
       "        text-align: right;\n",
       "    }\n",
       "</style>\n",
       "<table border=\"1\" class=\"dataframe\">\n",
       "  <thead>\n",
       "    <tr style=\"text-align: right;\">\n",
       "      <th></th>\n",
       "      <th>Name</th>\n",
       "      <th>Nilai</th>\n",
       "    </tr>\n",
       "  </thead>\n",
       "  <tbody>\n",
       "    <tr>\n",
       "      <th>1</th>\n",
       "      <td>Inun</td>\n",
       "      <td>93.2</td>\n",
       "    </tr>\n",
       "    <tr>\n",
       "      <th>4</th>\n",
       "      <td>Aida</td>\n",
       "      <td>93.2</td>\n",
       "    </tr>\n",
       "    <tr>\n",
       "      <th>5</th>\n",
       "      <td>Astri</td>\n",
       "      <td>83.0</td>\n",
       "    </tr>\n",
       "  </tbody>\n",
       "</table>\n",
       "</div>"
      ],
      "text/plain": [
       "    Name  Nilai\n",
       "1   Inun   93.2\n",
       "4   Aida   93.2\n",
       "5  Astri   83.0"
      ]
     },
     "execution_count": 117,
     "metadata": {},
     "output_type": "execute_result"
    }
   ],
   "source": [
    "df1[df1['Gender'].isin(['Female'])][['Name','Nilai']]"
   ]
  },
  {
   "cell_type": "code",
   "execution_count": 118,
   "id": "d4af9f46-618d-4acc-9100-c856dd90533e",
   "metadata": {},
   "outputs": [
    {
     "data": {
      "text/html": [
       "<div>\n",
       "<style scoped>\n",
       "    .dataframe tbody tr th:only-of-type {\n",
       "        vertical-align: middle;\n",
       "    }\n",
       "\n",
       "    .dataframe tbody tr th {\n",
       "        vertical-align: top;\n",
       "    }\n",
       "\n",
       "    .dataframe thead th {\n",
       "        text-align: right;\n",
       "    }\n",
       "</style>\n",
       "<table border=\"1\" class=\"dataframe\">\n",
       "  <thead>\n",
       "    <tr style=\"text-align: right;\">\n",
       "      <th></th>\n",
       "      <th>Name</th>\n",
       "      <th>Final Nilai</th>\n",
       "      <th>Gender</th>\n",
       "      <th>Email</th>\n",
       "      <th>Half Nilai</th>\n",
       "      <th>Male_Female</th>\n",
       "    </tr>\n",
       "  </thead>\n",
       "  <tbody>\n",
       "    <tr>\n",
       "      <th>0</th>\n",
       "      <td>Lina</td>\n",
       "      <td>98.0</td>\n",
       "      <td>Male</td>\n",
       "      <td>lina@gmail.com</td>\n",
       "      <td>49.0</td>\n",
       "      <td>1</td>\n",
       "    </tr>\n",
       "    <tr>\n",
       "      <th>1</th>\n",
       "      <td>Inun</td>\n",
       "      <td>93.2</td>\n",
       "      <td>Female</td>\n",
       "      <td>Inun@gmail.com</td>\n",
       "      <td>46.6</td>\n",
       "      <td>0</td>\n",
       "    </tr>\n",
       "    <tr>\n",
       "      <th>2</th>\n",
       "      <td>Cahaya</td>\n",
       "      <td>99.0</td>\n",
       "      <td>Male</td>\n",
       "      <td>cahaya@gmail.com</td>\n",
       "      <td>49.5</td>\n",
       "      <td>1</td>\n",
       "    </tr>\n",
       "    <tr>\n",
       "      <th>3</th>\n",
       "      <td>Noni</td>\n",
       "      <td>87.0</td>\n",
       "      <td>Male</td>\n",
       "      <td>noni@yahoo.com</td>\n",
       "      <td>43.5</td>\n",
       "      <td>1</td>\n",
       "    </tr>\n",
       "    <tr>\n",
       "      <th>4</th>\n",
       "      <td>Aida</td>\n",
       "      <td>93.2</td>\n",
       "      <td>Female</td>\n",
       "      <td>aida@yahoo.com</td>\n",
       "      <td>46.6</td>\n",
       "      <td>0</td>\n",
       "    </tr>\n",
       "    <tr>\n",
       "      <th>5</th>\n",
       "      <td>Astri</td>\n",
       "      <td>83.0</td>\n",
       "      <td>Female</td>\n",
       "      <td>astri@yahoo.com</td>\n",
       "      <td>41.5</td>\n",
       "      <td>0</td>\n",
       "    </tr>\n",
       "    <tr>\n",
       "      <th>6</th>\n",
       "      <td>Srize</td>\n",
       "      <td>99.0</td>\n",
       "      <td>Male</td>\n",
       "      <td>srize@yahoo.com</td>\n",
       "      <td>49.5</td>\n",
       "      <td>1</td>\n",
       "    </tr>\n",
       "  </tbody>\n",
       "</table>\n",
       "</div>"
      ],
      "text/plain": [
       "     Name  Final Nilai  Gender             Email  Half Nilai  Male_Female\n",
       "0    Lina         98.0    Male    lina@gmail.com        49.0            1\n",
       "1    Inun         93.2  Female    Inun@gmail.com        46.6            0\n",
       "2  Cahaya         99.0    Male  cahaya@gmail.com        49.5            1\n",
       "3    Noni         87.0    Male    noni@yahoo.com        43.5            1\n",
       "4    Aida         93.2  Female    aida@yahoo.com        46.6            0\n",
       "5   Astri         83.0  Female   astri@yahoo.com        41.5            0\n",
       "6   Srize         99.0    Male   srize@yahoo.com        49.5            1"
      ]
     },
     "execution_count": 118,
     "metadata": {},
     "output_type": "execute_result"
    }
   ],
   "source": [
    "df1.rename(columns={'Nilai':'Final Nilai'})"
   ]
  },
  {
   "cell_type": "code",
   "execution_count": 119,
   "id": "90c9fd31-c499-499b-a074-4d8f307c7eff",
   "metadata": {},
   "outputs": [
    {
     "data": {
      "text/html": [
       "<div>\n",
       "<style scoped>\n",
       "    .dataframe tbody tr th:only-of-type {\n",
       "        vertical-align: middle;\n",
       "    }\n",
       "\n",
       "    .dataframe tbody tr th {\n",
       "        vertical-align: top;\n",
       "    }\n",
       "\n",
       "    .dataframe thead th {\n",
       "        text-align: right;\n",
       "    }\n",
       "</style>\n",
       "<table border=\"1\" class=\"dataframe\">\n",
       "  <thead>\n",
       "    <tr style=\"text-align: right;\">\n",
       "      <th></th>\n",
       "      <th>Name</th>\n",
       "      <th>Nilai</th>\n",
       "      <th>Gender</th>\n",
       "      <th>Email</th>\n",
       "    </tr>\n",
       "  </thead>\n",
       "  <tbody>\n",
       "    <tr>\n",
       "      <th>0</th>\n",
       "      <td>Lina</td>\n",
       "      <td>98.0</td>\n",
       "      <td>Male</td>\n",
       "      <td>lina@gmail.com</td>\n",
       "    </tr>\n",
       "    <tr>\n",
       "      <th>1</th>\n",
       "      <td>Inun</td>\n",
       "      <td>NaN</td>\n",
       "      <td>Female</td>\n",
       "      <td>Inun@gmail.com</td>\n",
       "    </tr>\n",
       "    <tr>\n",
       "      <th>2</th>\n",
       "      <td>Cahaya</td>\n",
       "      <td>99.0</td>\n",
       "      <td>Male</td>\n",
       "      <td>cahaya@gmail.com</td>\n",
       "    </tr>\n",
       "    <tr>\n",
       "      <th>3</th>\n",
       "      <td>Noni</td>\n",
       "      <td>87.0</td>\n",
       "      <td>Male</td>\n",
       "      <td>noni@yahoo.com</td>\n",
       "    </tr>\n",
       "    <tr>\n",
       "      <th>4</th>\n",
       "      <td>Aida</td>\n",
       "      <td>NaN</td>\n",
       "      <td>Female</td>\n",
       "      <td>aida@yahoo.com</td>\n",
       "    </tr>\n",
       "    <tr>\n",
       "      <th>5</th>\n",
       "      <td>Astri</td>\n",
       "      <td>83.0</td>\n",
       "      <td>Female</td>\n",
       "      <td>astri@yahoo.com</td>\n",
       "    </tr>\n",
       "    <tr>\n",
       "      <th>6</th>\n",
       "      <td>Srize</td>\n",
       "      <td>99.0</td>\n",
       "      <td>Male</td>\n",
       "      <td>srize@yahoo.com</td>\n",
       "    </tr>\n",
       "  </tbody>\n",
       "</table>\n",
       "</div>"
      ],
      "text/plain": [
       "     Name  Nilai  Gender             Email\n",
       "0    Lina   98.0    Male    lina@gmail.com\n",
       "1    Inun    NaN  Female    Inun@gmail.com\n",
       "2  Cahaya   99.0    Male  cahaya@gmail.com\n",
       "3    Noni   87.0    Male    noni@yahoo.com\n",
       "4    Aida    NaN  Female    aida@yahoo.com\n",
       "5   Astri   83.0  Female   astri@yahoo.com\n",
       "6   Srize   99.0    Male   srize@yahoo.com"
      ]
     },
     "execution_count": 119,
     "metadata": {},
     "output_type": "execute_result"
    }
   ],
   "source": [
    "dict1 = {'Name':['Lina','Inun','Cahaya','Noni','Aida','Astri','Srize'], 'Nilai':[98,np.nan,99,87,np.nan,83,99], 'Gender':['Male','Female','Male','Male','Female','Female','Male'], 'Email': ['lina@gmail.com','Inun@gmail.com','cahaya@gmail.com','noni@yahoo.com','aida@yahoo.com','astri@yahoo.com','srize@yahoo.com']}\n",
    "df1 = pd.DataFrame(dict1)\n",
    "df1"
   ]
  },
  {
   "cell_type": "code",
   "execution_count": 120,
   "id": "99d6cd23-2987-48d3-994f-78a14ac17465",
   "metadata": {},
   "outputs": [],
   "source": [
    "df2 = pd.DataFrame({'Name':'Anil','Nilai':90,'Gender':'Male','Email':'anil@gmail.com'},index=[0])"
   ]
  },
  {
   "cell_type": "code",
   "execution_count": 121,
   "id": "90be3dc8-dfd3-472d-86d0-a07ba7f6ddba",
   "metadata": {},
   "outputs": [],
   "source": [
    "df3 = pd.concat([df1,df2],ignore_index=True)"
   ]
  },
  {
   "cell_type": "code",
   "execution_count": 122,
   "id": "0f6f1b89-0484-447f-b251-3638787031de",
   "metadata": {},
   "outputs": [
    {
     "data": {
      "text/html": [
       "<div>\n",
       "<style scoped>\n",
       "    .dataframe tbody tr th:only-of-type {\n",
       "        vertical-align: middle;\n",
       "    }\n",
       "\n",
       "    .dataframe tbody tr th {\n",
       "        vertical-align: top;\n",
       "    }\n",
       "\n",
       "    .dataframe thead th {\n",
       "        text-align: right;\n",
       "    }\n",
       "</style>\n",
       "<table border=\"1\" class=\"dataframe\">\n",
       "  <thead>\n",
       "    <tr style=\"text-align: right;\">\n",
       "      <th></th>\n",
       "      <th>Name</th>\n",
       "      <th>Nilai</th>\n",
       "      <th>Gender</th>\n",
       "      <th>Email</th>\n",
       "    </tr>\n",
       "  </thead>\n",
       "  <tbody>\n",
       "    <tr>\n",
       "      <th>0</th>\n",
       "      <td>Lina</td>\n",
       "      <td>98.0</td>\n",
       "      <td>Male</td>\n",
       "      <td>lina@gmail.com</td>\n",
       "    </tr>\n",
       "    <tr>\n",
       "      <th>1</th>\n",
       "      <td>Inun</td>\n",
       "      <td>NaN</td>\n",
       "      <td>Female</td>\n",
       "      <td>Inun@gmail.com</td>\n",
       "    </tr>\n",
       "    <tr>\n",
       "      <th>2</th>\n",
       "      <td>Cahaya</td>\n",
       "      <td>99.0</td>\n",
       "      <td>Male</td>\n",
       "      <td>cahaya@gmail.com</td>\n",
       "    </tr>\n",
       "    <tr>\n",
       "      <th>3</th>\n",
       "      <td>Noni</td>\n",
       "      <td>87.0</td>\n",
       "      <td>Male</td>\n",
       "      <td>noni@yahoo.com</td>\n",
       "    </tr>\n",
       "    <tr>\n",
       "      <th>4</th>\n",
       "      <td>Aida</td>\n",
       "      <td>NaN</td>\n",
       "      <td>Female</td>\n",
       "      <td>aida@yahoo.com</td>\n",
       "    </tr>\n",
       "    <tr>\n",
       "      <th>5</th>\n",
       "      <td>Astri</td>\n",
       "      <td>83.0</td>\n",
       "      <td>Female</td>\n",
       "      <td>astri@yahoo.com</td>\n",
       "    </tr>\n",
       "    <tr>\n",
       "      <th>6</th>\n",
       "      <td>Srize</td>\n",
       "      <td>99.0</td>\n",
       "      <td>Male</td>\n",
       "      <td>srize@yahoo.com</td>\n",
       "    </tr>\n",
       "    <tr>\n",
       "      <th>7</th>\n",
       "      <td>Anil</td>\n",
       "      <td>90.0</td>\n",
       "      <td>Male</td>\n",
       "      <td>anil@gmail.com</td>\n",
       "    </tr>\n",
       "  </tbody>\n",
       "</table>\n",
       "</div>"
      ],
      "text/plain": [
       "     Name  Nilai  Gender             Email\n",
       "0    Lina   98.0    Male    lina@gmail.com\n",
       "1    Inun    NaN  Female    Inun@gmail.com\n",
       "2  Cahaya   99.0    Male  cahaya@gmail.com\n",
       "3    Noni   87.0    Male    noni@yahoo.com\n",
       "4    Aida    NaN  Female    aida@yahoo.com\n",
       "5   Astri   83.0  Female   astri@yahoo.com\n",
       "6   Srize   99.0    Male   srize@yahoo.com\n",
       "7    Anil   90.0    Male    anil@gmail.com"
      ]
     },
     "execution_count": 122,
     "metadata": {},
     "output_type": "execute_result"
    }
   ],
   "source": [
    "df3"
   ]
  },
  {
   "cell_type": "code",
   "execution_count": 123,
   "id": "93b49a6f-cb2e-4700-bfb8-db421378852d",
   "metadata": {},
   "outputs": [
    {
     "data": {
      "text/html": [
       "<div>\n",
       "<style scoped>\n",
       "    .dataframe tbody tr th:only-of-type {\n",
       "        vertical-align: middle;\n",
       "    }\n",
       "\n",
       "    .dataframe tbody tr th {\n",
       "        vertical-align: top;\n",
       "    }\n",
       "\n",
       "    .dataframe thead th {\n",
       "        text-align: right;\n",
       "    }\n",
       "</style>\n",
       "<table border=\"1\" class=\"dataframe\">\n",
       "  <thead>\n",
       "    <tr style=\"text-align: right;\">\n",
       "      <th></th>\n",
       "      <th>Nilai</th>\n",
       "      <th>Gender</th>\n",
       "    </tr>\n",
       "  </thead>\n",
       "  <tbody>\n",
       "    <tr>\n",
       "      <th>0</th>\n",
       "      <td>98.0</td>\n",
       "      <td>Male</td>\n",
       "    </tr>\n",
       "    <tr>\n",
       "      <th>1</th>\n",
       "      <td>NaN</td>\n",
       "      <td>Female</td>\n",
       "    </tr>\n",
       "    <tr>\n",
       "      <th>2</th>\n",
       "      <td>99.0</td>\n",
       "      <td>Male</td>\n",
       "    </tr>\n",
       "    <tr>\n",
       "      <th>3</th>\n",
       "      <td>87.0</td>\n",
       "      <td>Male</td>\n",
       "    </tr>\n",
       "    <tr>\n",
       "      <th>4</th>\n",
       "      <td>NaN</td>\n",
       "      <td>Female</td>\n",
       "    </tr>\n",
       "    <tr>\n",
       "      <th>5</th>\n",
       "      <td>83.0</td>\n",
       "      <td>Female</td>\n",
       "    </tr>\n",
       "    <tr>\n",
       "      <th>6</th>\n",
       "      <td>99.0</td>\n",
       "      <td>Male</td>\n",
       "    </tr>\n",
       "  </tbody>\n",
       "</table>\n",
       "</div>"
      ],
      "text/plain": [
       "   Nilai  Gender\n",
       "0   98.0    Male\n",
       "1    NaN  Female\n",
       "2   99.0    Male\n",
       "3   87.0    Male\n",
       "4    NaN  Female\n",
       "5   83.0  Female\n",
       "6   99.0    Male"
      ]
     },
     "execution_count": 123,
     "metadata": {},
     "output_type": "execute_result"
    }
   ],
   "source": [
    "df1.loc[:,'Nilai':'Gender']"
   ]
  },
  {
   "cell_type": "code",
   "execution_count": 124,
   "id": "0c6b6d45-557e-4331-a99a-c74d136f348e",
   "metadata": {},
   "outputs": [
    {
     "data": {
      "text/plain": [
       "'Female'"
      ]
     },
     "execution_count": 124,
     "metadata": {},
     "output_type": "execute_result"
    }
   ],
   "source": [
    "df1.iloc[1,2]"
   ]
  },
  {
   "cell_type": "code",
   "execution_count": 125,
   "id": "98354ebf-aba7-4671-a86d-c93628b83091",
   "metadata": {},
   "outputs": [
    {
     "data": {
      "text/plain": [
       "0      Male\n",
       "1    Female\n",
       "2      Male\n",
       "3      Male\n",
       "4    Female\n",
       "5    Female\n",
       "6      Male\n",
       "Name: Gender, dtype: object"
      ]
     },
     "execution_count": 125,
     "metadata": {},
     "output_type": "execute_result"
    }
   ],
   "source": [
    "df1.iloc[:,2]"
   ]
  },
  {
   "cell_type": "code",
   "execution_count": 126,
   "id": "51f293c1-773a-4e38-b66e-983edaa9bf4d",
   "metadata": {},
   "outputs": [],
   "source": [
    "df1['Name_Nilai'] = df1['Name'] + ','+ df1['Nilai'].apply(str)"
   ]
  },
  {
   "cell_type": "code",
   "execution_count": 127,
   "id": "4f397be5-71cc-4e3c-bd00-a2913285d170",
   "metadata": {},
   "outputs": [
    {
     "data": {
      "text/html": [
       "<div>\n",
       "<style scoped>\n",
       "    .dataframe tbody tr th:only-of-type {\n",
       "        vertical-align: middle;\n",
       "    }\n",
       "\n",
       "    .dataframe tbody tr th {\n",
       "        vertical-align: top;\n",
       "    }\n",
       "\n",
       "    .dataframe thead th {\n",
       "        text-align: right;\n",
       "    }\n",
       "</style>\n",
       "<table border=\"1\" class=\"dataframe\">\n",
       "  <thead>\n",
       "    <tr style=\"text-align: right;\">\n",
       "      <th></th>\n",
       "      <th>Name</th>\n",
       "      <th>Nilai</th>\n",
       "      <th>Gender</th>\n",
       "      <th>Email</th>\n",
       "      <th>Name_Nilai</th>\n",
       "    </tr>\n",
       "  </thead>\n",
       "  <tbody>\n",
       "    <tr>\n",
       "      <th>0</th>\n",
       "      <td>Lina</td>\n",
       "      <td>98.0</td>\n",
       "      <td>Male</td>\n",
       "      <td>lina@gmail.com</td>\n",
       "      <td>Lina,98.0</td>\n",
       "    </tr>\n",
       "    <tr>\n",
       "      <th>1</th>\n",
       "      <td>Inun</td>\n",
       "      <td>NaN</td>\n",
       "      <td>Female</td>\n",
       "      <td>Inun@gmail.com</td>\n",
       "      <td>Inun,nan</td>\n",
       "    </tr>\n",
       "    <tr>\n",
       "      <th>2</th>\n",
       "      <td>Cahaya</td>\n",
       "      <td>99.0</td>\n",
       "      <td>Male</td>\n",
       "      <td>cahaya@gmail.com</td>\n",
       "      <td>Cahaya,99.0</td>\n",
       "    </tr>\n",
       "    <tr>\n",
       "      <th>3</th>\n",
       "      <td>Noni</td>\n",
       "      <td>87.0</td>\n",
       "      <td>Male</td>\n",
       "      <td>noni@yahoo.com</td>\n",
       "      <td>Noni,87.0</td>\n",
       "    </tr>\n",
       "    <tr>\n",
       "      <th>4</th>\n",
       "      <td>Aida</td>\n",
       "      <td>NaN</td>\n",
       "      <td>Female</td>\n",
       "      <td>aida@yahoo.com</td>\n",
       "      <td>Aida,nan</td>\n",
       "    </tr>\n",
       "    <tr>\n",
       "      <th>5</th>\n",
       "      <td>Astri</td>\n",
       "      <td>83.0</td>\n",
       "      <td>Female</td>\n",
       "      <td>astri@yahoo.com</td>\n",
       "      <td>Astri,83.0</td>\n",
       "    </tr>\n",
       "    <tr>\n",
       "      <th>6</th>\n",
       "      <td>Srize</td>\n",
       "      <td>99.0</td>\n",
       "      <td>Male</td>\n",
       "      <td>srize@yahoo.com</td>\n",
       "      <td>Srize,99.0</td>\n",
       "    </tr>\n",
       "  </tbody>\n",
       "</table>\n",
       "</div>"
      ],
      "text/plain": [
       "     Name  Nilai  Gender             Email   Name_Nilai\n",
       "0    Lina   98.0    Male    lina@gmail.com    Lina,98.0\n",
       "1    Inun    NaN  Female    Inun@gmail.com     Inun,nan\n",
       "2  Cahaya   99.0    Male  cahaya@gmail.com  Cahaya,99.0\n",
       "3    Noni   87.0    Male    noni@yahoo.com    Noni,87.0\n",
       "4    Aida    NaN  Female    aida@yahoo.com     Aida,nan\n",
       "5   Astri   83.0  Female   astri@yahoo.com   Astri,83.0\n",
       "6   Srize   99.0    Male   srize@yahoo.com   Srize,99.0"
      ]
     },
     "execution_count": 127,
     "metadata": {},
     "output_type": "execute_result"
    }
   ],
   "source": [
    "df1"
   ]
  },
  {
   "cell_type": "code",
   "execution_count": 128,
   "id": "56263f2d-57c5-4236-b63f-0e7fdf5c7982",
   "metadata": {},
   "outputs": [
    {
     "data": {
      "text/html": [
       "<div>\n",
       "<style scoped>\n",
       "    .dataframe tbody tr th:only-of-type {\n",
       "        vertical-align: middle;\n",
       "    }\n",
       "\n",
       "    .dataframe tbody tr th {\n",
       "        vertical-align: top;\n",
       "    }\n",
       "\n",
       "    .dataframe thead th {\n",
       "        text-align: right;\n",
       "    }\n",
       "</style>\n",
       "<table border=\"1\" class=\"dataframe\">\n",
       "  <thead>\n",
       "    <tr style=\"text-align: right;\">\n",
       "      <th></th>\n",
       "      <th>Nilai</th>\n",
       "    </tr>\n",
       "    <tr>\n",
       "      <th>Gender</th>\n",
       "      <th></th>\n",
       "    </tr>\n",
       "  </thead>\n",
       "  <tbody>\n",
       "    <tr>\n",
       "      <th>Female</th>\n",
       "      <td>83.00</td>\n",
       "    </tr>\n",
       "    <tr>\n",
       "      <th>Male</th>\n",
       "      <td>95.75</td>\n",
       "    </tr>\n",
       "  </tbody>\n",
       "</table>\n",
       "</div>"
      ],
      "text/plain": [
       "        Nilai\n",
       "Gender       \n",
       "Female  83.00\n",
       "Male    95.75"
      ]
     },
     "execution_count": 128,
     "metadata": {},
     "output_type": "execute_result"
    }
   ],
   "source": [
    "df1.groupby('Gender')['Nilai'].mean().sort_values().to_frame()"
   ]
  },
  {
   "cell_type": "code",
   "execution_count": 129,
   "id": "8994d07b-08d7-4573-899e-308be3d5a67b",
   "metadata": {},
   "outputs": [],
   "source": [
    "list1=[]\n",
    "for email in df1['Email']:\n",
    "    list1.append(email.split('@')[1])"
   ]
  },
  {
   "cell_type": "code",
   "execution_count": 65,
   "id": "1572e203-5b62-4ffc-b25c-213e2bf6055c",
   "metadata": {},
   "outputs": [
    {
     "data": {
      "text/plain": [
       "'gmail.com'"
      ]
     },
     "execution_count": 65,
     "metadata": {},
     "output_type": "execute_result"
    }
   ],
   "source": [
    "#df1['Email'][0].split('@')[1]"
   ]
  },
  {
   "cell_type": "code",
   "execution_count": 130,
   "id": "9d134acf-9dc6-47eb-b475-9c848cfd24a1",
   "metadata": {},
   "outputs": [
    {
     "data": {
      "text/plain": [
       "['gmail.com',\n",
       " 'gmail.com',\n",
       " 'gmail.com',\n",
       " 'yahoo.com',\n",
       " 'yahoo.com',\n",
       " 'yahoo.com',\n",
       " 'yahoo.com']"
      ]
     },
     "execution_count": 130,
     "metadata": {},
     "output_type": "execute_result"
    }
   ],
   "source": [
    "list1"
   ]
  },
  {
   "cell_type": "code",
   "execution_count": 131,
   "id": "311b2b9a-822a-4f26-81fa-99cdbf7d9be2",
   "metadata": {},
   "outputs": [],
   "source": [
    "df1['temp']=list1"
   ]
  },
  {
   "cell_type": "code",
   "execution_count": 132,
   "id": "e3949377-b2fa-4b40-b65c-58b47160f4a1",
   "metadata": {},
   "outputs": [
    {
     "data": {
      "text/html": [
       "<div>\n",
       "<style scoped>\n",
       "    .dataframe tbody tr th:only-of-type {\n",
       "        vertical-align: middle;\n",
       "    }\n",
       "\n",
       "    .dataframe tbody tr th {\n",
       "        vertical-align: top;\n",
       "    }\n",
       "\n",
       "    .dataframe thead th {\n",
       "        text-align: right;\n",
       "    }\n",
       "</style>\n",
       "<table border=\"1\" class=\"dataframe\">\n",
       "  <thead>\n",
       "    <tr style=\"text-align: right;\">\n",
       "      <th></th>\n",
       "      <th>Name</th>\n",
       "      <th>Nilai</th>\n",
       "      <th>Gender</th>\n",
       "      <th>Email</th>\n",
       "      <th>Name_Nilai</th>\n",
       "      <th>temp</th>\n",
       "    </tr>\n",
       "  </thead>\n",
       "  <tbody>\n",
       "    <tr>\n",
       "      <th>0</th>\n",
       "      <td>Lina</td>\n",
       "      <td>98.0</td>\n",
       "      <td>Male</td>\n",
       "      <td>lina@gmail.com</td>\n",
       "      <td>Lina,98.0</td>\n",
       "      <td>gmail.com</td>\n",
       "    </tr>\n",
       "    <tr>\n",
       "      <th>1</th>\n",
       "      <td>Inun</td>\n",
       "      <td>NaN</td>\n",
       "      <td>Female</td>\n",
       "      <td>Inun@gmail.com</td>\n",
       "      <td>Inun,nan</td>\n",
       "      <td>gmail.com</td>\n",
       "    </tr>\n",
       "    <tr>\n",
       "      <th>2</th>\n",
       "      <td>Cahaya</td>\n",
       "      <td>99.0</td>\n",
       "      <td>Male</td>\n",
       "      <td>cahaya@gmail.com</td>\n",
       "      <td>Cahaya,99.0</td>\n",
       "      <td>gmail.com</td>\n",
       "    </tr>\n",
       "    <tr>\n",
       "      <th>3</th>\n",
       "      <td>Noni</td>\n",
       "      <td>87.0</td>\n",
       "      <td>Male</td>\n",
       "      <td>noni@yahoo.com</td>\n",
       "      <td>Noni,87.0</td>\n",
       "      <td>yahoo.com</td>\n",
       "    </tr>\n",
       "    <tr>\n",
       "      <th>4</th>\n",
       "      <td>Aida</td>\n",
       "      <td>NaN</td>\n",
       "      <td>Female</td>\n",
       "      <td>aida@yahoo.com</td>\n",
       "      <td>Aida,nan</td>\n",
       "      <td>yahoo.com</td>\n",
       "    </tr>\n",
       "    <tr>\n",
       "      <th>5</th>\n",
       "      <td>Astri</td>\n",
       "      <td>83.0</td>\n",
       "      <td>Female</td>\n",
       "      <td>astri@yahoo.com</td>\n",
       "      <td>Astri,83.0</td>\n",
       "      <td>yahoo.com</td>\n",
       "    </tr>\n",
       "    <tr>\n",
       "      <th>6</th>\n",
       "      <td>Srize</td>\n",
       "      <td>99.0</td>\n",
       "      <td>Male</td>\n",
       "      <td>srize@yahoo.com</td>\n",
       "      <td>Srize,99.0</td>\n",
       "      <td>yahoo.com</td>\n",
       "    </tr>\n",
       "  </tbody>\n",
       "</table>\n",
       "</div>"
      ],
      "text/plain": [
       "     Name  Nilai  Gender             Email   Name_Nilai       temp\n",
       "0    Lina   98.0    Male    lina@gmail.com    Lina,98.0  gmail.com\n",
       "1    Inun    NaN  Female    Inun@gmail.com     Inun,nan  gmail.com\n",
       "2  Cahaya   99.0    Male  cahaya@gmail.com  Cahaya,99.0  gmail.com\n",
       "3    Noni   87.0    Male    noni@yahoo.com    Noni,87.0  yahoo.com\n",
       "4    Aida    NaN  Female    aida@yahoo.com     Aida,nan  yahoo.com\n",
       "5   Astri   83.0  Female   astri@yahoo.com   Astri,83.0  yahoo.com\n",
       "6   Srize   99.0    Male   srize@yahoo.com   Srize,99.0  yahoo.com"
      ]
     },
     "execution_count": 132,
     "metadata": {},
     "output_type": "execute_result"
    }
   ],
   "source": [
    "df1"
   ]
  },
  {
   "cell_type": "code",
   "execution_count": 133,
   "id": "be751097-126f-4e7a-9fd5-95670da61353",
   "metadata": {},
   "outputs": [
    {
     "data": {
      "text/plain": [
       "yahoo.com    4\n",
       "gmail.com    3\n",
       "Name: temp, dtype: int64"
      ]
     },
     "execution_count": 133,
     "metadata": {},
     "output_type": "execute_result"
    }
   ],
   "source": [
    "df1['temp'].value_counts()"
   ]
  },
  {
   "cell_type": "code",
   "execution_count": 134,
   "id": "e3768b0b-b555-4c6c-ad5c-54c69dc86156",
   "metadata": {},
   "outputs": [
    {
     "data": {
      "text/plain": [
       "yahoo.com    4\n",
       "gmail.com    3\n",
       "Name: Email, dtype: int64"
      ]
     },
     "execution_count": 134,
     "metadata": {},
     "output_type": "execute_result"
    }
   ],
   "source": [
    "df1['Email'].apply(lambda x:x.split('@')[1]).value_counts().head()"
   ]
  }
 ],
 "metadata": {
  "kernelspec": {
   "display_name": "Python 3 (ipykernel)",
   "language": "python",
   "name": "python3"
  },
  "language_info": {
   "codemirror_mode": {
    "name": "ipython",
    "version": 3
   },
   "file_extension": ".py",
   "mimetype": "text/x-python",
   "name": "python",
   "nbconvert_exporter": "python",
   "pygments_lexer": "ipython3",
   "version": "3.7.9"
  }
 },
 "nbformat": 4,
 "nbformat_minor": 5
}
